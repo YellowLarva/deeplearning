{
 "cells": [
  {
   "cell_type": "markdown",
   "id": "c2c0f8c5",
   "metadata": {},
   "source": [
    "# Classify grayscale images of handwritten digits (28 × 28 pixels) into their 10 categories (0 through 9)."
   ]
  },
  {
   "cell_type": "code",
   "execution_count": 49,
   "id": "709b8635",
   "metadata": {},
   "outputs": [],
   "source": [
    "import numpy as np\n",
    "\n",
    "import matplotlib.pyplot as plt\n",
    "%matplotlib inline"
   ]
  },
  {
   "cell_type": "markdown",
   "id": "59af071a",
   "metadata": {},
   "source": [
    "### Importing the dataset from keras datasets"
   ]
  },
  {
   "cell_type": "code",
   "execution_count": 40,
   "id": "9aba2b30",
   "metadata": {},
   "outputs": [],
   "source": [
    "from keras.datasets import mnist\n",
    "(train_images, train_labels), (test_images, test_labels) = mnist.load_data()"
   ]
  },
  {
   "cell_type": "markdown",
   "id": "4a3db520",
   "metadata": {},
   "source": [
    "### Printing some train images from the dataset"
   ]
  },
  {
   "cell_type": "code",
   "execution_count": 50,
   "id": "5709cd06",
   "metadata": {
    "scrolled": true
   },
   "outputs": [
    {
     "data": {
      "image/png": "[encoded data removed]",
      "text/plain": [
       "<Figure size 432x288 with 6 Axes>"
      ]
     },
     "metadata": {
      "needs_background": "light"
     },
     "output_type": "display_data"
    }
   ],
   "source": [
    "fig, ax = plt.subplots(2,3)\n",
    "ax = ax.flatten()\n",
    "\n",
    "for i in range(6):\n",
    "    sample = i\n",
    "    image = train_images[sample]\n",
    "    ax[i].imshow(image, cmap='gray')"
   ]
  },
  {
   "cell_type": "markdown",
   "id": "b6c7cb96",
   "metadata": {},
   "source": [
    "### Printing the train images shape along with labels"
   ]
  },
  {
   "cell_type": "code",
   "execution_count": 53,
   "id": "5468f100",
   "metadata": {},
   "outputs": [
    {
     "name": "stdout",
     "output_type": "stream",
     "text": [
      "(60000, 28, 28)\n",
      "[5 0 4 ... 5 6 8]\n"
     ]
    }
   ],
   "source": [
    "print(train_images.shape)\n",
    "print(train_labels)"
   ]
  },
  {
   "cell_type": "markdown",
   "id": "ef999e43",
   "metadata": {},
   "source": [
    "So we have 60000 images for training our model each with 28*28 pixel value."
   ]
  },
  {
   "cell_type": "markdown",
   "id": "9b22294d",
   "metadata": {},
   "source": [
    "### Printing the test images shape along with labels"
   ]
  },
  {
   "cell_type": "code",
   "execution_count": 54,
   "id": "8d807716",
   "metadata": {
    "scrolled": true
   },
   "outputs": [
    {
     "name": "stdout",
     "output_type": "stream",
     "text": [
      "(10000, 28, 28)\n",
      "[7 2 1 ... 4 5 6]\n"
     ]
    }
   ],
   "source": [
    "print(test_images.shape)\n",
    "print(test_labels)"
   ]
  },
  {
   "cell_type": "markdown",
   "id": "52dbc1b0",
   "metadata": {},
   "source": [
    "And we have 10000 images for testing our model."
   ]
  },
  {
   "cell_type": "markdown",
   "id": "d839e5e9",
   "metadata": {},
   "source": [
    "### Now Reshaping and changing its type of our train and test images so it lies in the range 0 to 1."
   ]
  },
  {
   "cell_type": "code",
   "execution_count": 58,
   "id": "5f4368db",
   "metadata": {},
   "outputs": [],
   "source": [
    "train_images = train_images.reshape((60000, 28 * 28))\n",
    "train_images = train_images.astype('float32') / 255\n",
    "test_images = test_images.reshape((10000, 28 * 28))\n",
    "test_images = test_images.astype('float32') / 255"
   ]
  },
  {
   "cell_type": "markdown",
   "id": "5a0a4dd0",
   "metadata": {},
   "source": [
    "### Converting the labels into categories so our model can work properly"
   ]
  },
  {
   "cell_type": "code",
   "execution_count": 61,
   "id": "e9d471a1",
   "metadata": {},
   "outputs": [],
   "source": [
    "from keras.utils import to_categorical\n",
    "train_labels = to_categorical(train_labels)\n",
    "test_labels = to_categorical(test_labels)"
   ]
  },
  {
   "cell_type": "markdown",
   "id": "94366d5d",
   "metadata": {},
   "source": [
    "### Now building the neural network "
   ]
  },
  {
   "cell_type": "markdown",
   "id": "c89897ac",
   "metadata": {},
   "source": [
    "Adding a dense layer with activation function as Relu and then another Dense layer with softmax function to classify different labels "
   ]
  },
  {
   "cell_type": "code",
   "execution_count": 22,
   "id": "8431c8e7",
   "metadata": {},
   "outputs": [],
   "source": [
    "from keras import models\n",
    "from keras import layers\n",
    "network = models.Sequential()\n",
    "network.add(layers.Dense(512, activation='relu', input_shape=(28 * 28,)))\n",
    "network.add(layers.Dense(10, activation='softmax'))"
   ]
  },
  {
   "cell_type": "markdown",
   "id": "cabaa53a",
   "metadata": {},
   "source": [
    "### Now compling with the optimizer rmsprop and loss function as categorical crossentropy"
   ]
  },
  {
   "cell_type": "code",
   "execution_count": 62,
   "id": "190edc8c",
   "metadata": {},
   "outputs": [],
   "source": [
    "network.compile(optimizer='rmsprop',\n",
    "loss='categorical_crossentropy',\n",
    "metrics=['accuracy'])"
   ]
  },
  {
   "cell_type": "markdown",
   "id": "f365b145",
   "metadata": {},
   "source": [
    "### Now training the model"
   ]
  },
  {
   "cell_type": "code",
   "execution_count": 63,
   "id": "6311bd71",
   "metadata": {},
   "outputs": [
    {
     "name": "stdout",
     "output_type": "stream",
     "text": [
      "Epoch 1/5\n",
      "469/469 [==============================] - 3s 6ms/step - loss: 0.0298 - accuracy: 0.9910\n",
      "Epoch 2/5\n",
      "469/469 [==============================] - 3s 6ms/step - loss: 0.0222 - accuracy: 0.9937\n",
      "Epoch 3/5\n",
      "469/469 [==============================] - 3s 6ms/step - loss: 0.0167 - accuracy: 0.9954\n",
      "Epoch 4/5\n",
      "469/469 [==============================] - 3s 6ms/step - loss: 0.0126 - accuracy: 0.9967\n",
      "Epoch 5/5\n",
      "469/469 [==============================] - 3s 6ms/step - loss: 0.0094 - accuracy: 0.9981\n"
     ]
    },
    {
     "data": {
      "text/plain": [
       "<keras.callbacks.History at 0x2852b687880>"
      ]
     },
     "execution_count": 63,
     "metadata": {},
     "output_type": "execute_result"
    }
   ],
   "source": [
    " network.fit(train_images, train_labels, epochs=5, batch_size=128)"
   ]
  },
  {
   "cell_type": "code",
   "execution_count": 64,
   "id": "de7e470f",
   "metadata": {},
   "outputs": [
    {
     "name": "stdout",
     "output_type": "stream",
     "text": [
      "313/313 [==============================] - 1s 2ms/step - loss: 0.0629 - accuracy: 0.9826\n"
     ]
    }
   ],
   "source": [
    "test_loss, test_acc = network.evaluate(test_images, test_labels)"
   ]
  },
  {
   "cell_type": "code",
   "execution_count": 65,
   "id": "3c670655",
   "metadata": {},
   "outputs": [
    {
     "name": "stdout",
     "output_type": "stream",
     "text": [
      "test_acc: 0.9825999736785889\n"
     ]
    }
   ],
   "source": [
    " print('test_acc:', test_acc)"
   ]
  },
  {
   "cell_type": "markdown",
   "id": "cdb4706a",
   "metadata": {},
   "source": [
    "So we get an accuracy of 99.81 in the training model and 98.25 in the testing accuracy score.So, this means that our model is overfitting in the training phase. "
   ]
  }
 ],
 "metadata": {
  "kernelspec": {
   "display_name": "Python 3 (ipykernel)",
   "language": "python",
   "name": "python3"
  },
  "language_info": {
   "codemirror_mode": {
    "name": "ipython",
    "version": 3
   },
   "file_extension": ".py",
   "mimetype": "text/x-python",
   "name": "python",
   "nbconvert_exporter": "python",
   "pygments_lexer": "ipython3",
   "version": "3.9.12"
  }
 },
 "nbformat": 4,
 "nbformat_minor": 5
}
