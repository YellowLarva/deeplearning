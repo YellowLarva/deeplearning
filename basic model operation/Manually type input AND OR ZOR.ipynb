{
 "cells": [
  {
   "cell_type": "code",
   "execution_count": 3,
   "id": "eb342952",
   "metadata": {},
   "outputs": [],
   "source": [
    "import numpy as np"
   ]
  },
  {
   "cell_type": "code",
   "execution_count": 100,
   "id": "9d6045d8",
   "metadata": {},
   "outputs": [],
   "source": [
    "training_data_X = [\n",
    "    [1,1],\n",
    "    [1,0],\n",
    "    [0,1],\n",
    "    [0,0]\n",
    "]"
   ]
  },
  {
   "cell_type": "code",
   "execution_count": 35,
   "id": "8b745eec",
   "metadata": {},
   "outputs": [],
   "source": [
    "def sigmoid(z):\n",
    "    if (z <= 0):\n",
    "        return 0\n",
    "    return 1"
   ]
  },
  {
   "cell_type": "code",
   "execution_count": 45,
   "id": "695ffa4c",
   "metadata": {},
   "outputs": [],
   "source": [
    "def predict_and(X1,X2):\n",
    "    \n",
    "    yp = np.nan\n",
    "    pr = X1 and X2\n",
    "    w1 = np.nan\n",
    "    w2 = np.nan\n",
    "    b  = np.nan\n",
    "    \n",
    "    while(pr != yp):  \n",
    "        w1 = np.random.randint(-2,2)\n",
    "        w2 = np.random.randint(-2,2)\n",
    "#         b  = np.random.randint(-2,2)\n",
    "        ob = w1*X1 + w2*X2\n",
    "        \n",
    "        yp = sigmoid(ob)\n",
    "\n",
    "    \n",
    "    return yp,w1,w2\n",
    "    "
   ]
  },
  {
   "cell_type": "code",
   "execution_count": 46,
   "id": "6e156673",
   "metadata": {},
   "outputs": [],
   "source": [
    "a, b, c  = predict_and(training_data_X[0][0],training_data_X[0][1])"
   ]
  },
  {
   "cell_type": "code",
   "execution_count": 47,
   "id": "d5c0a7a8",
   "metadata": {},
   "outputs": [
    {
     "name": "stdout",
     "output_type": "stream",
     "text": [
      "Weight for X1 :  1\n",
      "Weight for X2 :  1\n",
      "Our predicted value:  1\n"
     ]
    }
   ],
   "source": [
    "print(\"Weight for X1 : \", b)\n",
    "print(\"Weight for X2 : \", c)\n",
    "# print(\"Bias   for both  : \", d)\n",
    "print(\"Our predicted value: \", a)"
   ]
  },
  {
   "cell_type": "code",
   "execution_count": 39,
   "id": "6b38737b",
   "metadata": {},
   "outputs": [],
   "source": [
    "a, b, c ,d = predict_and(training_data_X[1][0],training_data_X[1][1])"
   ]
  },
  {
   "cell_type": "code",
   "execution_count": 40,
   "id": "a26b1464",
   "metadata": {},
   "outputs": [
    {
     "name": "stdout",
     "output_type": "stream",
     "text": [
      "Weight for X1 :  -2\n",
      "Weight for X2 :  1\n",
      "Bias   for both  :  -1\n",
      "Our predicted value:  0\n"
     ]
    }
   ],
   "source": [
    "print(\"Weight for X1 : \", b)\n",
    "print(\"Weight for X2 : \", c)\n",
    "print(\"Bias   for both  : \", d)\n",
    "print(\"Our predicted value: \", a)"
   ]
  },
  {
   "cell_type": "code",
   "execution_count": 48,
   "id": "0ff5c506",
   "metadata": {},
   "outputs": [],
   "source": [
    "def predict_or(X1,X2):\n",
    "    \n",
    "    yp = np.nan\n",
    "    pr = X1 or X2\n",
    "    w1 = np.nan\n",
    "    w2 = np.nan\n",
    "    b  = np.nan\n",
    "    \n",
    "    while(pr != yp):  \n",
    "        w1 = np.random.randint(-2,2)\n",
    "        w2 = np.random.randint(-2,2)\n",
    "#         b  = np.random.randint(-2,2)\n",
    "        ob = w1*X1 + w2*X2 \n",
    "        \n",
    "        yp = sigmoid(ob)\n",
    "\n",
    "    \n",
    "    return yp,w1,w2"
   ]
  },
  {
   "cell_type": "code",
   "execution_count": 49,
   "id": "f330a0a3",
   "metadata": {},
   "outputs": [],
   "source": [
    "a, b, c  = predict_or(training_data_X[0][0],training_data_X[0][1])"
   ]
  },
  {
   "cell_type": "code",
   "execution_count": 50,
   "id": "e163aed0",
   "metadata": {},
   "outputs": [
    {
     "name": "stdout",
     "output_type": "stream",
     "text": [
      "Weight for X1 :  1\n",
      "Weight for X2 :  0\n",
      "Our predicted value:  1\n"
     ]
    }
   ],
   "source": [
    "print(\"Weight for X1 : \", b)\n",
    "print(\"Weight for X2 : \", c)\n",
    "# print(\"Bias   for both  : \", d)\n",
    "print(\"Our predicted value: \", a)"
   ]
  },
  {
   "cell_type": "code",
   "execution_count": 97,
   "id": "265e78f2",
   "metadata": {},
   "outputs": [],
   "source": [
    "def predict_xor(X1,X2):\n",
    "    \n",
    "    yp = np.nan\n",
    "    pr = X1 ^ X2\n",
    "    w1 = np.nan\n",
    "    w2 = np.nan\n",
    "    \n",
    "    while(pr != yp):  \n",
    "        w1 = np.random.randint(-2,2)\n",
    "        w2 = np.random.randint(-2,2)\n",
    "#         b  = np.random.randint(-2,2)\n",
    "        ob = w1*X1 + w2*X2 \n",
    "        \n",
    "        yp = sigmoid(ob)\n",
    "\n",
    "    \n",
    "    return yp,w1,w2,X1,X2,pr"
   ]
  },
  {
   "cell_type": "code",
   "execution_count": 98,
   "id": "6164794a",
   "metadata": {},
   "outputs": [],
   "source": [
    "a, b, c, v1, v2, p  = predict_xor(training_data_X[0][0],training_data_X[0][1])"
   ]
  },
  {
   "cell_type": "code",
   "execution_count": 99,
   "id": "eeac9285",
   "metadata": {},
   "outputs": [
    {
     "name": "stdout",
     "output_type": "stream",
     "text": [
      "Value for X1 :  1\n",
      "Value for X2 :  1\n",
      "Weight for X1 :  0\n",
      "Weight for X2 :  -1\n",
      "actual predixted value  :  0\n",
      "Our predicted value:  0\n"
     ]
    }
   ],
   "source": [
    "print(\"Value for X1 : \", v1)\n",
    "print(\"Value for X2 : \", v2)\n",
    "print(\"Weight for X1 : \", b)\n",
    "print(\"Weight for X2 : \", c)\n",
    "print(\"actual predixted value  : \", p)\n",
    "print(\"Our predicted value: \", a)"
   ]
  },
  {
   "cell_type": "code",
   "execution_count": null,
   "id": "964933c5",
   "metadata": {},
   "outputs": [],
   "source": []
  }
 ],
 "metadata": {
  "kernelspec": {
   "display_name": "Python 3 (ipykernel)",
   "language": "python",
   "name": "python3"
  },
  "language_info": {
   "codemirror_mode": {
    "name": "ipython",
    "version": 3
   },
   "file_extension": ".py",
   "mimetype": "text/x-python",
   "name": "python",
   "nbconvert_exporter": "python",
   "pygments_lexer": "ipython3",
   "version": "3.9.12"
  }
 },
 "nbformat": 4,
 "nbformat_minor": 5
}
